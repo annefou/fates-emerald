{
 "cells": [
  {
   "cell_type": "markdown",
   "metadata": {},
   "source": [
    "# CTSM-FATES \n",
    "\n",
    "## Get input data"
   ]
  },
  {
   "cell_type": "code",
   "execution_count": 2,
   "metadata": {},
   "outputs": [
    {
     "name": "stdout",
     "output_type": "stream",
     "text": [
      "--2020-11-13 15:56:33--  https://zenodo.org/record/4108341/files/inputdata_version2.0.0_ALP1.tar\n",
      "Resolving zenodo.org (zenodo.org)... 137.138.76.77\n",
      "Connecting to zenodo.org (zenodo.org)|137.138.76.77|:443... connected.\n",
      "HTTP request sent, awaiting response... 200 OK\n",
      "Length: 16209920 (15M) [application/octet-stream]\n",
      "Saving to: ‘inputdata_version2.0.0_ALP1.tar’\n",
      "\n",
      "inputdata_version2. 100%[===================>]  15.46M  10.7MB/s    in 1.4s    \n",
      "\n",
      "2020-11-13 15:56:35 (10.7 MB/s) - ‘inputdata_version2.0.0_ALP1.tar’ saved [16209920/16209920]\n",
      "\n"
     ]
    }
   ],
   "source": [
    "%%bash\n",
    "wget https://zenodo.org/record/4108341/files/inputdata_version2.0.0_ALP1.tar"
   ]
  },
  {
   "cell_type": "code",
   "execution_count": 3,
   "metadata": {},
   "outputs": [],
   "source": [
    "%%bash\n",
    "mkdir $HOME/inputdata\n",
    "tar xf inputdata_version2.0.0_ALP1.tar --directory $HOME/inputdata"
   ]
  },
  {
   "cell_type": "markdown",
   "metadata": {},
   "source": [
    "# Case creation for 1x1_ALP1 site"
   ]
  },
  {
   "cell_type": "code",
   "execution_count": 4,
   "metadata": {},
   "outputs": [
    {
     "name": "stdout",
     "output_type": "stream",
     "text": [
      "Did not find an alias or longname compset match for 2000_DATM%1PTGSWP3_CLM50%FATES_SICE_SOCN_MOSART_SGLC_SWAV \n",
      "Automatically adding SIAC to compset\n",
      "Automatically adding SESP to compset\n",
      "Compset forcing is 1972-2004\n",
      "ATM component is  Data driven ATM single point tower site data set \n",
      "LND component is clm5.0:FATES (Functionally Assembled Terrestrial Ecosystem Simulator) Ecosystem Demography model: (experimental)\n",
      "ICE component is Stub ice component\n",
      "OCN component is Stub ocn component\n",
      "ROF component is MOSART: MOdel for Scale Adaptive River Transport\n",
      "GLC component is Stub glacier (land ice) component\n",
      "WAV component is Stub wave component\n",
      "IAC component is Stub iac component\n",
      "ESP component is Stub external system processing (ESP) component\n",
      "Pes     specification file is /srv/conda/envs/notebook/cime_config/config_pes.xml\n",
      "Compset specific settings: name is RUN_STARTDATE and value is 2000-01-01\n",
      "Machine is espresso\n",
      "Pes setting: grid match    is l%1x1|l%CLM_USRDAT \n",
      "Pes setting: grid          is a%1x1_ALP1_l%1x1_ALP1_oi%null_r%null_g%null_w%null_z%null_m%null \n",
      "Pes setting: compset       is 2000_DATM%1PTGSWP3_CLM50%FATES_SICE_SOCN_MOSART_SGLC_SWAV_SIAC_SESP \n",
      "Pes setting: tasks       is {'NTASKS_ATM': 1, 'NTASKS_LND': 1, 'NTASKS_ROF': 1, 'NTASKS_ICE': 1, 'NTASKS_OCN': 1, 'NTASKS_GLC': 1, 'NTASKS_WAV': 1, 'NTASKS_CPL': 1} \n",
      "Pes setting: threads     is {'NTHRDS_ATM': 1, 'NTHRDS_LND': 1, 'NTHRDS_ROF': 1, 'NTHRDS_ICE': 1, 'NTHRDS_OCN': 1, 'NTHRDS_GLC': 1, 'NTHRDS_WAV': 1, 'NTHRDS_CPL': 1} \n",
      "Pes setting: rootpe      is {'ROOTPE_ATM': 0, 'ROOTPE_LND': 0, 'ROOTPE_ROF': 0, 'ROOTPE_ICE': 0, 'ROOTPE_OCN': 0, 'ROOTPE_GLC': 0, 'ROOTPE_WAV': 0, 'ROOTPE_CPL': 0} \n",
      "Pes setting: pstrid      is {} \n",
      "Pes other settings: {}\n",
      "Pes comments: none\n",
      " Compset is: 2000_DATM%1PTGSWP3_CLM50%FATES_SICE_SOCN_MOSART_SGLC_SWAV_SIAC_SESP \n",
      " Grid is: a%1x1_ALP1_l%1x1_ALP1_oi%null_r%null_g%null_w%null_z%null_m%null \n",
      " Components in compset are: ['datm', 'clm', 'sice', 'socn', 'mosart', 'sglc', 'swav', 'siac', 'sesp', 'drv', 'dart'] \n",
      "No project info available\n",
      "No charge_account info available, using value from PROJECT\n",
      "Batch_system_type is none\n",
      " Creating Case directory /home/jovyan/ctsm_cases/fates_alp1\n"
     ]
    },
    {
     "name": "stderr",
     "output_type": "stream",
     "text": [
      "Could not find machine match for 'jupyter-annefou-2dfates-2demerald-2dwz7z3zxi' or 'jupyter-annefou-2dfates-2demerald-2dwz7z3zxi'\n",
      "WARNING: No cesm Model version found.\n"
     ]
    }
   ],
   "source": [
    "%%bash\n",
    "create_newcase --case $HOME/ctsm_cases/fates_alp1 --compset 2000_DATM%1PTGSWP3_CLM50%FATES_SICE_SOCN_MOSART_SGLC_SWAV --res 1x1_ALP1 --machine espresso --run-unsupported"
   ]
  },
  {
   "cell_type": "markdown",
   "metadata": {},
   "source": [
    "## Setup, build and run a simple case"
   ]
  },
  {
   "cell_type": "code",
   "execution_count": null,
   "metadata": {},
   "outputs": [],
   "source": [
    "%%bash\n",
    "\n",
    "cd $HOME/ctsm_cases/fates_alp1\n",
    "./case.setup\n",
    "./case.build\n",
    "./xmlchange STOP_OPTION=nmonths            # set the simulation periods to \"years\"\n",
    "./xmlchange STOP_N=6                       # set the length of simulation, i.e, how many years\n",
    "./case.submit > case_submit.out 2>&1"
   ]
  },
  {
   "cell_type": "code",
   "execution_count": null,
   "metadata": {},
   "outputs": [],
   "source": []
  }
 ],
 "metadata": {
  "kernelspec": {
   "display_name": "Python 3",
   "language": "python",
   "name": "python3"
  },
  "language_info": {
   "codemirror_mode": {
    "name": "ipython",
    "version": 3
   },
   "file_extension": ".py",
   "mimetype": "text/x-python",
   "name": "python",
   "nbconvert_exporter": "python",
   "pygments_lexer": "ipython3",
   "version": "3.7.8"
  }
 },
 "nbformat": 4,
 "nbformat_minor": 4
}
